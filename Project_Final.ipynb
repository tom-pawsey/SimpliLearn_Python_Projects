{
 "cells": [
  {
   "cell_type": "markdown",
   "id": "6b251aee",
   "metadata": {},
   "source": [
    "# App Rating Prediction\n",
    "\n",
    "## Description\n",
    "\n",
    "### Objective\n",
    "Make a model to predict the app rating, with other information about the app provided.\n",
    "\n",
    "### Problem Statement\n",
    "Google Play Store team is about to launch a new feature wherein, certain apps that are promising, are boosted in visibility. The boost will manifest in multiple ways including higher priority in recommendations sections (“Similar apps”, “You might also like”, “New and updated games”). These will also get a boost in search results visibility.  This feature will help bring more attention to newer apps that have the potential.\n",
    "\n",
    "### Analysis to be Done\n",
    "The problem is to identify the apps that are going to be good for Google to promote. App ratings, which are provided by the customers, is always a great indicator of the goodness of the app. The problem reduces to: predict which apps will have high ratings.\n",
    "\n",
    "### Content\n",
    "Dataset: Google Play Store data (“googleplaystore.csv”)\n",
    "\n",
    "### Fields in the Data\n",
    "\n",
    "App: Application name\n",
    "\n",
    "Category: Category to which the app belongs \n",
    "\n",
    "Rating: Overall user rating of the app\n",
    "\n",
    "Reviews: Number of user reviews for the app\n",
    "\n",
    "Size: Size of the app\n",
    "\n",
    "Installs: Number of user downloads/installs for the app\n",
    "\n",
    "Type: Paid or Free\n",
    "\n",
    "Price: Price of the app\n",
    "\n",
    "Content Rating: Age group the app is targeted at - Children / Mature 21+ / Adult\n",
    "\n",
    "Genres: An app can belong to multiple genres (apart from its main category). For example, a musical family game will belong to Music, Game, Family genres.\n",
    "\n",
    "Last Updated: Date when the app was last updated on Play Store\n",
    "\n",
    "Current Ver: Current version of the app available on Play Store\n",
    "\n",
    "Android Ver: Minimum required Android version\n",
    "\n",
    "### Steps to Perform\n",
    "\n",
    "1. Load the data file using pandas. \n",
    "\n",
    "2. Check for null values in the data. Get the number of null values for each column.\n",
    "\n",
    "3. Drop records with nulls in any of the columns. \n",
    "\n",
    "4. Variables seem to have incorrect type and inconsistent formatting. You need to fix them: \n",
    "    1. Size column has sizes in Kb as well as Mb. To analyze, you’ll need to convert these to numeric.\n",
    "        1. Extract the numeric value from the column\n",
    "        2. Multiply the value by 1,000, if size is mentioned in Mb\n",
    "    2. Reviews is a numeric field that is loaded as a string field. Convert it to numeric (int/float).\n",
    "    3. Installs field is currently stored as string and has values like 1,000,000+. \n",
    "        1. Treat 1,000,000+ as 1,000,000\n",
    "        2. Remove ‘+’, ‘,’ from the field, convert it to integer\n",
    "    4. Price field is a string and has $ symbol. Remove ‘$’ sign, and convert it to numeric.\n",
    "\n",
    "5. Sanity checks:\n",
    "    1. Average rating should be between 1 and 5 as only these values are allowed on the play store. Drop the rows that have a value outside this range.\n",
    "    2. Reviews should not be more than installs as only those who installed can review the app. If there are any such records, drop them.\n",
    "    3. For free apps (type = “Free”), the price should not be >0. Drop any such rows.\n",
    "\n",
    "6. Performing univariate analysis: \n",
    "    1. Boxplot for Price\n",
    "        1. Are there any outliers? Think about the price of usual apps on Play Store.\n",
    "    2. Boxplot for Reviews\n",
    "        1. Are there any apps with very high number of reviews? Do the values seem right?\n",
    "    3. Histogram for Rating\n",
    "        1. How are the ratings distributed? Is it more toward higher ratings?\n",
    "    4. Histogram for Size\n",
    "    5. Note down your observations for the plots made above. Which of these seem to have outliers?\n",
    "    \n",
    "7. Outlier treatment: \n",
    "    1. Price: From the box plot, it seems like there are some apps with very high price. A price of $200 for an application on the Play Store is very high and suspicious!\n",
    "        1. Check out the records with very high price\n",
    "            1. Is 200 indeed a high price?\n",
    "        2. Drop these as most seem to be junk apps\n",
    "    2. Reviews: Very few apps have very high number of reviews. These are all star apps that don’t help with the analysis and, in fact, will skew it. Drop records having more than 2 million reviews.\n",
    "    3. Installs:  There seems to be some outliers in this field too. Apps having very high number of installs should be dropped from the analysis.\n",
    "        1. Find out the different percentiles – 10, 25, 50, 70, 90, 95, 99\n",
    "        2. Decide a threshold as cutoff for outlier and drop records having values more than that\n",
    "\n",
    "8. Bivariate analysis: Let’s look at how the available predictors relate to the variable of interest, i.e., our target variable rating. Make scatter plots (for numeric features) and box plots (for character features) to assess the relations between rating and the other features.\n",
    "    1. Make scatter plot/joinplot for Rating vs. Price\n",
    "        1. What pattern do you observe? Does rating increase with price?\n",
    "    2. Make scatter plot/joinplot for Rating vs. Size\n",
    "        1. Are heavier apps rated better?\n",
    "    3. Make scatter plot/joinplot for Rating vs. Reviews\n",
    "        1. Does more review mean a better rating always?\n",
    "    4. Make boxplot for Rating vs. Content Rating\n",
    "        1. Is there any difference in the ratings? Are some types liked better?\n",
    "    5. Make boxplot for Ratings vs. Category\n",
    "        1. Which genre has the best ratings?\n",
    "    6. For each of the plots above, note down your observation.\n",
    "    \n",
    "9. Data preprocessing\n",
    "    1. For the steps below, create a copy of the dataframe to make all the edits. Name it inp1.\n",
    "        1. Reviews and Install have some values that are still relatively very high. Before building a linear regression model, you need to reduce the skew. Apply log transformation (np.log1p) to Reviews and Installs.\n",
    "        2. Drop columns App, Last Updated, Current Ver, and Android Ver. These variables are not useful for our task.\n",
    "        3. Get dummy columns for Category, Genres, and Content Rating. This needs to be done as the models do not understand categorical data, and all data should be numeric. Dummy encoding is one way to convert character fields to numeric. Name of dataframe should be inp2.\n",
    "\n",
    "10. Train test split  and apply 70-30 split. Name the new dataframes df_train and df_test.\n",
    "\n",
    "11. Separate the dataframes into X_train, y_train, X_test, and y_test.\n",
    "\n",
    "12. Model building\n",
    "    1. Use linear regression as the technique\n",
    "    2. Report the R2 on the train set\n",
    "\n",
    "13. Make predictions on test set and report R2."
   ]
  },
  {
   "cell_type": "code",
   "execution_count": null,
   "id": "bdadca6f",
   "metadata": {},
   "outputs": [],
   "source": [
    "# import the libraries\n",
    "import pandas as pd\n",
    "import numpy as np\n",
    "import matplotlib.pyplot as plt\n",
    "import seaborn as sns"
   ]
  },
  {
   "cell_type": "code",
   "execution_count": null,
   "id": "5ff189ca",
   "metadata": {},
   "outputs": [],
   "source": [
    "# ignore warnings\n",
    "import warnings\n",
    "warnings.filterwarnings(\"ignore\")"
   ]
  },
  {
   "cell_type": "markdown",
   "id": "38919b15",
   "metadata": {},
   "source": [
    "# 1. Load the data file using pandas"
   ]
  },
  {
   "cell_type": "code",
   "execution_count": null,
   "id": "3e31ca35",
   "metadata": {},
   "outputs": [],
   "source": [
    "data=pd.read_csv('googleplaystore.csv')"
   ]
  },
  {
   "cell_type": "code",
   "execution_count": null,
   "id": "14c1df0a",
   "metadata": {},
   "outputs": [],
   "source": [
    "data"
   ]
  },
  {
   "cell_type": "markdown",
   "id": "bd3e515b",
   "metadata": {},
   "source": [
    "# 2. Check for null values in the data. Get the number of null values for each column"
   ]
  },
  {
   "cell_type": "code",
   "execution_count": null,
   "id": "c87647fc",
   "metadata": {},
   "outputs": [],
   "source": [
    "data.isnull().sum()"
   ]
  },
  {
   "cell_type": "markdown",
   "id": "222967bf",
   "metadata": {},
   "source": [
    "# 3. Drop records with nulls in any of the columns"
   ]
  },
  {
   "cell_type": "code",
   "execution_count": null,
   "id": "584c30a4",
   "metadata": {},
   "outputs": [],
   "source": [
    "data.dropna(inplace=True)\n",
    "data.isnull().sum()"
   ]
  },
  {
   "cell_type": "markdown",
   "id": "4f232678",
   "metadata": {},
   "source": [
    "# 4.1. Size column has sizes in Kb as well as Mb"
   ]
  },
  {
   "cell_type": "code",
   "execution_count": null,
   "id": "32c30260",
   "metadata": {},
   "outputs": [],
   "source": [
    "# convert to kb\n",
    "def change(Size):\n",
    "    if 'M' in Size:\n",
    "        x=Size[:-1]\n",
    "        x=float(x)*1000\n",
    "        return x\n",
    "    elif 'k' in Size:\n",
    "        x=Size[:-1]\n",
    "        x=float(x)\n",
    "        return x\n",
    "    else:\n",
    "        return None"
   ]
  },
  {
   "cell_type": "code",
   "execution_count": null,
   "id": "5506c541",
   "metadata": {},
   "outputs": [],
   "source": [
    "# fix formatting\n",
    "data['Size']=data['Size'].map(change)"
   ]
  },
  {
   "cell_type": "code",
   "execution_count": null,
   "id": "aa18e70d",
   "metadata": {},
   "outputs": [],
   "source": [
    "data.Size"
   ]
  },
  {
   "cell_type": "code",
   "execution_count": null,
   "id": "c5d079ae",
   "metadata": {},
   "outputs": [],
   "source": [
    "# recheck for nulls\n",
    "data.isnull().sum()"
   ]
  },
  {
   "cell_type": "code",
   "execution_count": null,
   "id": "afb95fa3",
   "metadata": {},
   "outputs": [],
   "source": [
    "# remove nulls and recheck\n",
    "data.Size.fillna(method='ffill',inplace=True)\n",
    "data.isnull().sum()"
   ]
  },
  {
   "cell_type": "markdown",
   "id": "67426e78",
   "metadata": {},
   "source": [
    "# 4.2. Reviews is a numeric field that is loaded as a string field. Convert it to numeric (int/float)"
   ]
  },
  {
   "cell_type": "code",
   "execution_count": null,
   "id": "878b9c3f",
   "metadata": {},
   "outputs": [],
   "source": [
    "data['Reviews']=data['Reviews'].astype('int')\n",
    "data.dtypes"
   ]
  },
  {
   "cell_type": "markdown",
   "id": "ef47c79c",
   "metadata": {},
   "source": [
    "# 4.3. Installs field is currently stored as string and has values like 1,000,000+"
   ]
  },
  {
   "cell_type": "code",
   "execution_count": null,
   "id": "f29886e8",
   "metadata": {},
   "outputs": [],
   "source": [
    "data.Installs"
   ]
  },
  {
   "cell_type": "code",
   "execution_count": null,
   "id": "fdb3217a",
   "metadata": {},
   "outputs": [],
   "source": [
    "# Treat 1,000,000+ as 1,000,000, remove the '+'\n",
    "data['Installs']=data['Installs'].str.replace('[+,]','')\n",
    "data.Installs"
   ]
  },
  {
   "cell_type": "code",
   "execution_count": null,
   "id": "9c363d9f",
   "metadata": {},
   "outputs": [],
   "source": [
    "# Convert to integer\n",
    "data['Installs']=data['Installs'].astype('int')\n",
    "data.dtypes"
   ]
  },
  {
   "cell_type": "markdown",
   "id": "0e582a4f",
   "metadata": {},
   "source": [
    "# 4.4. Price field is a string and has \\\\$ symbol. Remove \\'$' sign, and convert it to numeric"
   ]
  },
  {
   "cell_type": "code",
   "execution_count": null,
   "id": "6d453f7f",
   "metadata": {},
   "outputs": [],
   "source": [
    "data.Price.sort_values(ascending=True)"
   ]
  },
  {
   "cell_type": "code",
   "execution_count": null,
   "id": "43bdc89a",
   "metadata": {},
   "outputs": [],
   "source": [
    "# Remove $\n",
    "data['Price']=data['Price'].str.replace('[$]','')\n",
    "data.Price.sort_values(ascending=True)"
   ]
  },
  {
   "cell_type": "code",
   "execution_count": null,
   "id": "2c779aae",
   "metadata": {},
   "outputs": [],
   "source": [
    "# Convert to numeric\n",
    "data['Price']=data['Price'].astype('float')\n",
    "data.dtypes"
   ]
  },
  {
   "cell_type": "markdown",
   "id": "49c2d3eb",
   "metadata": {},
   "source": [
    "# 5. Sanity checks"
   ]
  },
  {
   "cell_type": "markdown",
   "id": "6a4213e5",
   "metadata": {},
   "source": [
    "### 5.1. Average rating should be between 1 and 5 as only these values are allowed on the play store. Drop the rows that have a value outside this range"
   ]
  },
  {
   "cell_type": "code",
   "execution_count": null,
   "id": "69ed14a0",
   "metadata": {},
   "outputs": [],
   "source": [
    "# Check above 5\n",
    "np.sum(data['Rating']>5)"
   ]
  },
  {
   "cell_type": "code",
   "execution_count": null,
   "id": "27f30528",
   "metadata": {},
   "outputs": [],
   "source": [
    "# Check below 1\n",
    "np.sum(data['Rating']<1)"
   ]
  },
  {
   "cell_type": "markdown",
   "id": "19e74065",
   "metadata": {},
   "source": [
    "### 5.2. Reviews should not be more than installs as only those who installed can review the app. If there are any such records, drop them"
   ]
  },
  {
   "cell_type": "code",
   "execution_count": null,
   "id": "89868ea0",
   "metadata": {},
   "outputs": [],
   "source": [
    "# Check for reviews > installs\n",
    "np.sum(data['Reviews']>data['Installs'])"
   ]
  },
  {
   "cell_type": "code",
   "execution_count": null,
   "id": "90998c41",
   "metadata": {},
   "outputs": [],
   "source": [
    "# Drop reviews > installs\n",
    "data.drop(data[data['Reviews'] > data['Installs']].index, inplace = True)\n",
    "np.sum(data['Reviews']>data['Installs'])"
   ]
  },
  {
   "cell_type": "markdown",
   "id": "50768c86",
   "metadata": {},
   "source": [
    "### 5.3. For free apps (type = “Free”), the price should not be >0. Drop any such rows"
   ]
  },
  {
   "cell_type": "code",
   "execution_count": null,
   "id": "e3895558",
   "metadata": {},
   "outputs": [],
   "source": [
    "np.sum(data[(data['Type']=='Free') & (data['Price']>0)])"
   ]
  },
  {
   "cell_type": "markdown",
   "id": "b10394d2",
   "metadata": {},
   "source": [
    "# 6. Performing univariate analysis"
   ]
  },
  {
   "cell_type": "markdown",
   "id": "4ea89c19",
   "metadata": {},
   "source": [
    "### 6.1. Boxplot for Price"
   ]
  },
  {
   "cell_type": "code",
   "execution_count": null,
   "id": "d83a515c",
   "metadata": {},
   "outputs": [],
   "source": [
    "plt.figure(figsize=[12,10])\n",
    "sns.boxplot(data['Price'])"
   ]
  },
  {
   "cell_type": "markdown",
   "id": "9065318d",
   "metadata": {},
   "source": [
    "6.1.1. Are there any outliers? Think about the price of usual apps on Play Store\n",
    "\n",
    "    Yes, most paid apps are usually less than $10. This boxplot shows multiple outliers up to about $400."
   ]
  },
  {
   "cell_type": "markdown",
   "id": "f7709977",
   "metadata": {},
   "source": [
    "### 6.2. Boxplot for Reviews"
   ]
  },
  {
   "cell_type": "code",
   "execution_count": null,
   "id": "29b51787",
   "metadata": {
    "scrolled": false
   },
   "outputs": [],
   "source": [
    "plt.figure(figsize=[12,10])\n",
    "sns.boxplot(data['Reviews'])"
   ]
  },
  {
   "cell_type": "markdown",
   "id": "68bc31ec",
   "metadata": {},
   "source": [
    "6.2.1. Are there any apps with very high number of reviews? Do the values seem right?\n",
    "\n",
    "    There are multiple apps with a very high number of reviews. The scale on the bottom indicates that there are numerous outliers, with some apps even having 80,000,000 reviews."
   ]
  },
  {
   "cell_type": "markdown",
   "id": "f2af85dc",
   "metadata": {},
   "source": [
    "### 6.3. Histogram for Rating"
   ]
  },
  {
   "cell_type": "code",
   "execution_count": null,
   "id": "3c59ee2b",
   "metadata": {},
   "outputs": [],
   "source": [
    "plt.figure(figsize=[12,10])\n",
    "sns.histplot(data['Rating'])"
   ]
  },
  {
   "cell_type": "markdown",
   "id": "8c71fcdb",
   "metadata": {},
   "source": [
    "6.3.1. How are the ratings distributed? Is it more toward higher ratings?\n",
    "\n",
    "    The ratings are left-skewed, with many more high ratings than low."
   ]
  },
  {
   "cell_type": "markdown",
   "id": "8031c11e",
   "metadata": {},
   "source": [
    "### 6.4. Histogram for Size"
   ]
  },
  {
   "cell_type": "code",
   "execution_count": null,
   "id": "80d346d1",
   "metadata": {},
   "outputs": [],
   "source": [
    "plt.figure(figsize=[12,10])\n",
    "sns.histplot(data['Size'])"
   ]
  },
  {
   "cell_type": "markdown",
   "id": "d2b6950d",
   "metadata": {},
   "source": [
    "### 6.5. Note down your observations for the plots made above. Which of these seem to have outliers?\n",
    "\n",
    "    All of the above charts are likely to have outliers. The price and reviews charts show numerous outliers on the upper end, while the ratings and size charts are both highly skewed, and are therefore likely to have outliers."
   ]
  },
  {
   "cell_type": "markdown",
   "id": "8b766e65",
   "metadata": {},
   "source": [
    "# 7. Outlier Treatment"
   ]
  },
  {
   "cell_type": "markdown",
   "id": "4c0c1f26",
   "metadata": {},
   "source": [
    "### 7.1. Price: From the box plot, it seems like there are some apps with very high price. A price of $200 for an application on the Play Store is very high and suspicious!"
   ]
  },
  {
   "cell_type": "markdown",
   "id": "305b9226",
   "metadata": {},
   "source": [
    "7.1.1. Check out the records with very high price"
   ]
  },
  {
   "cell_type": "code",
   "execution_count": null,
   "id": "eba3f692",
   "metadata": {},
   "outputs": [],
   "source": [
    "# check what is considered 'high'\n",
    "data.Price.quantile([0.1,0.25,0.5,0.75,0.9,0.95,0.99])"
   ]
  },
  {
   "cell_type": "markdown",
   "id": "ea1f8fe4",
   "metadata": {},
   "source": [
    "7.1.1.1. Is 200 indeed a high price?\n",
    "    \n",
    "    The above table shows that $8.99 is the start of the 99th percentile, so $200 is definitely high."
   ]
  },
  {
   "cell_type": "markdown",
   "id": "65095a9e",
   "metadata": {},
   "source": [
    "7.2.1. Drop these as most seem to be junk apps"
   ]
  },
  {
   "cell_type": "code",
   "execution_count": null,
   "id": "754bac00",
   "metadata": {
    "scrolled": false
   },
   "outputs": [],
   "source": [
    "data.drop(data[data['Price']>200].index, inplace = True)\n",
    "np.sum(data['Price']>200)"
   ]
  },
  {
   "cell_type": "markdown",
   "id": "8d952f1b",
   "metadata": {},
   "source": [
    "### 7.2. Reviews: Very few apps have very high number of reviews. These are all star apps that don’t help with the analysis and, in fact, will skew it. Drop records having more than 2 million reviews"
   ]
  },
  {
   "cell_type": "code",
   "execution_count": null,
   "id": "72ddc113",
   "metadata": {},
   "outputs": [],
   "source": [
    "data.drop(data[data['Reviews']>2000000].index, inplace = True)\n",
    "np.sum(data['Reviews']>2000000)"
   ]
  },
  {
   "cell_type": "markdown",
   "id": "bed3dffa",
   "metadata": {},
   "source": [
    "### 7.3. Installs:  There seems to be some outliers in this field too. Apps having very high number of installs should be dropped from the analysis."
   ]
  },
  {
   "cell_type": "markdown",
   "id": "97180ce0",
   "metadata": {},
   "source": [
    "7.3.1. Find out the different percentiles – 10, 25, 50, 70, 90, 95, 99"
   ]
  },
  {
   "cell_type": "code",
   "execution_count": null,
   "id": "6d28a42c",
   "metadata": {},
   "outputs": [],
   "source": [
    "data.Installs.quantile([0.1,0.25,0.5,0.7,0.9,0.95,0.99])"
   ]
  },
  {
   "cell_type": "markdown",
   "id": "de6986ac",
   "metadata": {},
   "source": [
    "7.3.2. Decide a threshold as cutoff for outlier and drop records having values more than that"
   ]
  },
  {
   "cell_type": "code",
   "execution_count": null,
   "id": "ba857e51",
   "metadata": {},
   "outputs": [],
   "source": [
    "# as both 0.9 and 0.95 have the same number of installs at 10,000,000, I will drop records with more than this number\n",
    "data.drop(data[data['Installs']>10000000].index, inplace = True)\n",
    "np.sum(data['Reviews']>10000000)"
   ]
  },
  {
   "cell_type": "markdown",
   "id": "203577c2",
   "metadata": {},
   "source": [
    "# 8. Bivariate analysis: Let’s look at how the available predictors relate to the variable of interest, i.e., our target variable rating. Make scatter plots (for numeric features) and box plots (for character features) to assess the relations between rating and the other features."
   ]
  },
  {
   "cell_type": "markdown",
   "id": "300c36ff",
   "metadata": {},
   "source": [
    "### 8.1. Make scatter plot/jointplot for Rating vs. Price"
   ]
  },
  {
   "cell_type": "code",
   "execution_count": null,
   "id": "8a53153b",
   "metadata": {},
   "outputs": [],
   "source": [
    "# jointplot\n",
    "plt.figure(figsize=[12,10])\n",
    "sns.jointplot(x='Rating',y='Price',data=data)"
   ]
  },
  {
   "cell_type": "code",
   "execution_count": null,
   "id": "9418fdc3",
   "metadata": {},
   "outputs": [],
   "source": [
    "# scatterplot\n",
    "plt.figure(figsize=[12,10])\n",
    "sns.scatterplot(x='Rating',y='Price',data=data)"
   ]
  },
  {
   "cell_type": "markdown",
   "id": "ddc2937b",
   "metadata": {},
   "source": [
    "8.1.1. What pattern do you observe? Does rating increase with price?\n",
    "\n",
    "    Although there is no clear and obvious pattern, the higher-priced apps do have fewer low ratings. This indicated that rating does increase with price."
   ]
  },
  {
   "cell_type": "markdown",
   "id": "3db63c9f",
   "metadata": {},
   "source": [
    "### 8.2. Make scatter plot/joinplot for Rating vs. Size"
   ]
  },
  {
   "cell_type": "code",
   "execution_count": null,
   "id": "c35c5159",
   "metadata": {},
   "outputs": [],
   "source": [
    "# jointplot\n",
    "plt.figure(figsize=[12,10])\n",
    "sns.jointplot(x='Rating',y='Size',data=data)"
   ]
  },
  {
   "cell_type": "code",
   "execution_count": null,
   "id": "a632842b",
   "metadata": {},
   "outputs": [],
   "source": [
    "# scatterplot\n",
    "plt.figure(figsize=[12,10])\n",
    "sns.scatterplot(x='Rating',y='Size',data=data)"
   ]
  },
  {
   "cell_type": "markdown",
   "id": "ad8eef9a",
   "metadata": {},
   "source": [
    "8.2.1. Are heavier apps rated better?\n",
    "\n",
    "    Similarly to 8.1.1., although there is no clear and obvious pattern, the heavier apps do have fewer low ratings. This indicated that rating does increase with app size."
   ]
  },
  {
   "cell_type": "markdown",
   "id": "2453c6d4",
   "metadata": {},
   "source": [
    "### 8.3. Make scatter plot/joinplot for Rating vs. Reviews"
   ]
  },
  {
   "cell_type": "code",
   "execution_count": null,
   "id": "ccc32f32",
   "metadata": {},
   "outputs": [],
   "source": [
    "# jointplot\n",
    "plt.figure(figsize=[12,10])\n",
    "sns.jointplot(x='Rating',y='Reviews',data=data)"
   ]
  },
  {
   "cell_type": "code",
   "execution_count": null,
   "id": "c01b0c55",
   "metadata": {},
   "outputs": [],
   "source": [
    "# scatterplot\n",
    "plt.figure(figsize=[12,10])\n",
    "sns.scatterplot(x='Rating',y='Reviews',data=data)"
   ]
  },
  {
   "cell_type": "markdown",
   "id": "cb25d8e4",
   "metadata": {},
   "source": [
    "8.3.1. Does more review mean a better rating always?\n",
    "\n",
    "    These charts show that higher rated apps tend to have more reviews, both positive and negative."
   ]
  },
  {
   "cell_type": "markdown",
   "id": "c6c3871b",
   "metadata": {},
   "source": [
    "### 8.4. Make boxplot for Rating vs. Content Rating"
   ]
  },
  {
   "cell_type": "code",
   "execution_count": null,
   "id": "41511d71",
   "metadata": {},
   "outputs": [],
   "source": [
    "plt.figure(figsize=[12,10])\n",
    "sns.boxplot(x='Rating',y='Content Rating',data=data)"
   ]
  },
  {
   "cell_type": "markdown",
   "id": "5cb726e1",
   "metadata": {},
   "source": [
    "8.4.1. Is there any difference in the ratings? Are some types liked better?\n",
    "\n",
    "    This boxplot shows that while all 'content rating' groups have roughly the same rating, the apps available to everyone have the most outliers and the biggest range, while the adult only apps have no outliers. The other groups fall inbetween."
   ]
  },
  {
   "cell_type": "markdown",
   "id": "4c54f9ce",
   "metadata": {},
   "source": [
    "### 8.5. Make boxplot for Ratings vs. Category"
   ]
  },
  {
   "cell_type": "code",
   "execution_count": null,
   "id": "18914070",
   "metadata": {},
   "outputs": [],
   "source": [
    "plt.figure(figsize=[12,10])\n",
    "sns.boxplot(x='Rating',y='Category',data=data)"
   ]
  },
  {
   "cell_type": "markdown",
   "id": "8e4736de",
   "metadata": {},
   "source": [
    "8.5.1. Which genre has the best ratings?\n",
    "\n",
    "    From this, I would say that the 'events' apps have the best ratings. They have one of the highest means, very few outliers, quite a low range."
   ]
  },
  {
   "cell_type": "markdown",
   "id": "f6bad0da",
   "metadata": {},
   "source": [
    "# 9. Data preprocessing\n",
    "\n",
    "### 9.1. For the steps below, create a copy of the dataframe to make all the edits. Name it inp1."
   ]
  },
  {
   "cell_type": "code",
   "execution_count": null,
   "id": "3d4daf66",
   "metadata": {},
   "outputs": [],
   "source": [
    "inp1=data.copy()"
   ]
  },
  {
   "cell_type": "markdown",
   "id": "463f94a8",
   "metadata": {},
   "source": [
    "9.1.1. Reviews and Install have some values that are still relatively very high. Before building a linear regression model, you need to reduce the skew. Apply log transformation (np.log1p) to Reviews and Installs."
   ]
  },
  {
   "cell_type": "code",
   "execution_count": null,
   "id": "9aca3e3d",
   "metadata": {},
   "outputs": [],
   "source": [
    "# reviews\n",
    "inp1.Reviews=np.log1p(inp1.Reviews)\n",
    "inp1.Reviews"
   ]
  },
  {
   "cell_type": "code",
   "execution_count": null,
   "id": "8ce8f22d",
   "metadata": {},
   "outputs": [],
   "source": [
    "# installs\n",
    "inp1.Installs=np.log1p(inp1.Installs)\n",
    "inp1.Installs"
   ]
  },
  {
   "cell_type": "markdown",
   "id": "b22b6ecb",
   "metadata": {},
   "source": [
    "9.2.1. Drop columns App, Last Updated, Current Ver, and Android Ver. These variables are not useful for our task."
   ]
  },
  {
   "cell_type": "code",
   "execution_count": null,
   "id": "524b5b8d",
   "metadata": {},
   "outputs": [],
   "source": [
    "inp1.columns"
   ]
  },
  {
   "cell_type": "code",
   "execution_count": null,
   "id": "c6e39e04",
   "metadata": {},
   "outputs": [],
   "source": [
    "inp1.drop(['App','Last Updated','Current Ver','Android Ver'],axis=1,inplace=True)\n",
    "inp1.columns"
   ]
  },
  {
   "cell_type": "markdown",
   "id": "e7b6b7a1",
   "metadata": {},
   "source": [
    "9.3.1. Get dummy columns for Category, Genres, and Content Rating. This needs to be done as the models do not understand categorical data, and all data should be numeric. Dummy encoding is one way to convert character fields to numeric. Name of dataframe should be inp2."
   ]
  },
  {
   "cell_type": "code",
   "execution_count": null,
   "id": "4944a92a",
   "metadata": {},
   "outputs": [],
   "source": [
    "# also creating dummy for 'Type', to avoid an error later in the code\n",
    "inp2=pd.get_dummies(inp1,columns=['Category','Genres','Content Rating','Type'])\n",
    "inp2.head()"
   ]
  },
  {
   "cell_type": "markdown",
   "id": "0ecef1e3",
   "metadata": {},
   "source": [
    "# 10. Train test split  and apply 70-30 split. Name the new dataframes df_train and df_test."
   ]
  },
  {
   "cell_type": "code",
   "execution_count": null,
   "id": "1617afe3",
   "metadata": {},
   "outputs": [],
   "source": [
    "from sklearn.model_selection import train_test_split\n",
    "df_train,df_test=train_test_split(inp2,test_size=0.3)\n",
    "print(df_train.shape)\n",
    "print(df_test.shape)"
   ]
  },
  {
   "cell_type": "markdown",
   "id": "421468a0",
   "metadata": {},
   "source": [
    "# 11. Separate the dataframes into X_train, y_train, X_test, and y_test."
   ]
  },
  {
   "cell_type": "code",
   "execution_count": null,
   "id": "15ddef59",
   "metadata": {},
   "outputs": [],
   "source": [
    "y_train=df_train.pop('Rating')\n",
    "x_train=df_train\n",
    "y_test=df_test.pop('Rating')\n",
    "x_test=df_test"
   ]
  },
  {
   "cell_type": "markdown",
   "id": "d0917791",
   "metadata": {},
   "source": [
    "# 12. Model building\n",
    "\n",
    "### 12.1. Use linear regression as the technique"
   ]
  },
  {
   "cell_type": "code",
   "execution_count": null,
   "id": "7a7b519b",
   "metadata": {},
   "outputs": [],
   "source": [
    "from sklearn.linear_model import LinearRegression\n",
    "linear_reg=LinearRegression()"
   ]
  },
  {
   "cell_type": "code",
   "execution_count": null,
   "id": "85240ddb",
   "metadata": {},
   "outputs": [],
   "source": [
    "linear_reg.fit(x_train,y_train)"
   ]
  },
  {
   "cell_type": "markdown",
   "id": "708e4a0f",
   "metadata": {},
   "source": [
    "### 12.2. Report the R2 on the train set"
   ]
  },
  {
   "cell_type": "code",
   "execution_count": null,
   "id": "66e8ac6b",
   "metadata": {},
   "outputs": [],
   "source": [
    "from sklearn.metrics import r2_score\n",
    "y_pred_train=linear_reg.predict(x_train)\n",
    "print(r2_score(y_pred_train,y_train))"
   ]
  },
  {
   "cell_type": "markdown",
   "id": "9fd6a4ef",
   "metadata": {},
   "source": [
    "# 13. Make predictions on test set and report R2."
   ]
  },
  {
   "cell_type": "code",
   "execution_count": null,
   "id": "4073651b",
   "metadata": {},
   "outputs": [],
   "source": [
    "y_pred_test=linear_reg.predict(x_test)\n",
    "print(r2_score(y_pred_test,y_test))"
   ]
  }
 ],
 "metadata": {
  "kernelspec": {
   "display_name": "Python 3 (ipykernel)",
   "language": "python",
   "name": "python3"
  },
  "language_info": {
   "codemirror_mode": {
    "name": "ipython",
    "version": 3
   },
   "file_extension": ".py",
   "mimetype": "text/x-python",
   "name": "python",
   "nbconvert_exporter": "python",
   "pygments_lexer": "ipython3",
   "version": "3.9.12"
  }
 },
 "nbformat": 4,
 "nbformat_minor": 5
}
